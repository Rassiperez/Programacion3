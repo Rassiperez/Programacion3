{
 "cells": [
  {
   "cell_type": "code",
   "execution_count": null,
   "id": "5bd71985",
   "metadata": {},
   "outputs": [
    {
     "name": "stdout",
     "output_type": "stream",
     "text": [
      "========================================\n",
      "Bienvenido al Juego de la horca\n",
      "========================================\n",
      "['_', '_', '_', '_', '_', '_', '_', '_', '_']\n"
     ]
    }
   ],
   "source": [
    "def jugar():\n",
    "    print('========================================')\n",
    "    print('Bienvenido al Juego de la horca')\n",
    "    print('========================================')\n",
    "\n",
    "    palabra_secreta = 'mandarina'\n",
    "    letras_acertadas =['_'for elemento in palabra_secreta]\n",
    "    \n",
    "    ahorcado = False\n",
    "    acerto = False\n",
    "    errores = 0 #contador de errores\n",
    "    \n",
    "    print(letras_acertadas)\n",
    "    while(not ahorcado and not acerto):\n",
    "        entrada= input('Ingrese una letra... ')\n",
    "        entrada = entrada.strip()\n",
    "        entrada = entrada.lower()\n",
    "        \n",
    "        if entrada in palabra_secreta:\n",
    "            indice = 0\n",
    "            for letra in palabra_secreta:\n",
    "                if(entrada==letra):\n",
    "                    letras_acertadas[indice] = letra\n",
    "                    #print('Se encontró la letra {} en la posición {}'.format(letra, indice))\n",
    "\n",
    "                indice = indice + 1\n",
    "        else:\n",
    "            errores += 1\n",
    "            \n",
    "        ahorcado = errores == 9\n",
    "        acerto = \"_\" not in letras_acertadas\n",
    "        print(letras_acertadas)\n",
    "       \n",
    "       \n",
    "    if(acerto):\n",
    "        print('Felicidades, ganaste')\n",
    "    else:\n",
    "        print('Lo siento, perdiste')\n",
    "       \n",
    "    print('FIN DEL JUEGO')\n",
    "    \n",
    "if(__name__ == \"__main__\"):\n",
    "    jugar()"
   ]
  },
  {
   "cell_type": "code",
   "execution_count": null,
   "id": "0e370e42",
   "metadata": {},
   "outputs": [],
   "source": [
    "palabra= \"mandarina\"\n",
    "palabra.capitalize() # convierte la primera letra en mayuscula"
   ]
  },
  {
   "cell_type": "code",
   "execution_count": null,
   "id": "2eaeeb89",
   "metadata": {},
   "outputs": [],
   "source": [
    "palabra.endswith(\"na\")#busca una sud cadena al final"
   ]
  },
  {
   "cell_type": "code",
   "execution_count": null,
   "id": "534f0601",
   "metadata": {},
   "outputs": [],
   "source": [
    "palabra2=\"PROGRAMACION TRES\"\n",
    "palabra2.lower()# convierte toda la cadena a minisculas"
   ]
  },
  {
   "cell_type": "code",
   "execution_count": null,
   "id": "6b6cb911",
   "metadata": {},
   "outputs": [],
   "source": [
    "palabra.upper() #convierte toda la cadena a mayusculas"
   ]
  },
  {
   "cell_type": "code",
   "execution_count": null,
   "id": "ee672f37",
   "metadata": {},
   "outputs": [],
   "source": [
    "palabra= \"     abc     \"\n",
    "palabra.strip() # elimina los espacios en blancos q alla hacia la izquierda y derecha\n"
   ]
  },
  {
   "cell_type": "code",
   "execution_count": null,
   "id": "5efee20a",
   "metadata": {},
   "outputs": [],
   "source": [
    "palabra= \"mandarina\"\n",
    "type (palabra) # referencia a palabra el type"
   ]
  },
  {
   "cell_type": "code",
   "execution_count": null,
   "id": "d2efcd31",
   "metadata": {},
   "outputs": [],
   "source": [
    "palabra.find(\"m\")"
   ]
  },
  {
   "cell_type": "code",
   "execution_count": null,
   "id": "9a62d3ff",
   "metadata": {},
   "outputs": [],
   "source": [
    "palabra.find(\"z\")# no encontro la letra o en la sud cadena siemore nos devuelve el valor de-1"
   ]
  },
  {
   "cell_type": "code",
   "execution_count": 9,
   "id": "eba88b5c",
   "metadata": {},
   "outputs": [
    {
     "data": {
      "text/plain": [
       "list"
      ]
     },
     "execution_count": 9,
     "metadata": {},
     "output_type": "execute_result"
    }
   ],
   "source": [
    "valores=[]\n",
    "type (valores)"
   ]
  },
  {
   "cell_type": "code",
   "execution_count": 10,
   "id": "55d04e54",
   "metadata": {},
   "outputs": [
    {
     "data": {
      "text/plain": [
       "False"
      ]
     },
     "execution_count": 10,
     "metadata": {},
     "output_type": "execute_result"
    }
   ],
   "source": [
    "valores=[0,1,2,3,'x']\n",
    "7 in valores"
   ]
  },
  {
   "cell_type": "code",
   "execution_count": 11,
   "id": "475a000b",
   "metadata": {},
   "outputs": [
    {
     "data": {
      "text/plain": [
       "True"
      ]
     },
     "execution_count": 11,
     "metadata": {},
     "output_type": "execute_result"
    }
   ],
   "source": [
    "'a'in 'mandarina'"
   ]
  },
  {
   "cell_type": "code",
   "execution_count": 12,
   "id": "c5faa471",
   "metadata": {},
   "outputs": [
    {
     "ename": "TypeError",
     "evalue": "'<' not supported between instances of 'str' and 'int'",
     "output_type": "error",
     "traceback": [
      "\u001b[1;31m---------------------------------------------------------------------------\u001b[0m",
      "\u001b[1;31mTypeError\u001b[0m                                 Traceback (most recent call last)",
      "Cell \u001b[1;32mIn[12], line 1\u001b[0m\n\u001b[1;32m----> 1\u001b[0m \u001b[38;5;28mmin\u001b[39m(valores)\n",
      "\u001b[1;31mTypeError\u001b[0m: '<' not supported between instances of 'str' and 'int'"
     ]
    }
   ],
   "source": [
    "min(valores)"
   ]
  },
  {
   "cell_type": "code",
   "execution_count": 14,
   "id": "87af8a58",
   "metadata": {},
   "outputs": [],
   "source": [
    "valores=[0,1,2,3,5,7]"
   ]
  },
  {
   "cell_type": "code",
   "execution_count": 15,
   "id": "1d0cca72",
   "metadata": {},
   "outputs": [
    {
     "data": {
      "text/plain": [
       "0"
      ]
     },
     "execution_count": 15,
     "metadata": {},
     "output_type": "execute_result"
    }
   ],
   "source": [
    "min(valores)"
   ]
  },
  {
   "cell_type": "code",
   "execution_count": 16,
   "id": "a9f660bb",
   "metadata": {},
   "outputs": [
    {
     "data": {
      "text/plain": [
       "7"
      ]
     },
     "execution_count": 16,
     "metadata": {},
     "output_type": "execute_result"
    }
   ],
   "source": [
    "max(valores)"
   ]
  },
  {
   "cell_type": "code",
   "execution_count": 17,
   "id": "9f1b0c98",
   "metadata": {},
   "outputs": [
    {
     "data": {
      "text/plain": [
       "6"
      ]
     },
     "execution_count": 17,
     "metadata": {},
     "output_type": "execute_result"
    }
   ],
   "source": [
    "len(valores)"
   ]
  },
  {
   "cell_type": "code",
   "execution_count": 19,
   "id": "f220de60",
   "metadata": {},
   "outputs": [
    {
     "data": {
      "text/plain": [
       "[0, 1, 2, 3, 5, 7, 9]"
      ]
     },
     "execution_count": 19,
     "metadata": {},
     "output_type": "execute_result"
    }
   ],
   "source": [
    "valores.append(9)\n",
    "valores"
   ]
  },
  {
   "cell_type": "code",
   "execution_count": 20,
   "id": "1d63ecc1",
   "metadata": {},
   "outputs": [
    {
     "data": {
      "text/plain": [
       "9"
      ]
     },
     "execution_count": 20,
     "metadata": {},
     "output_type": "execute_result"
    }
   ],
   "source": [
    "valores.pop()"
   ]
  },
  {
   "cell_type": "code",
   "execution_count": 1,
   "id": "71962434",
   "metadata": {},
   "outputs": [
    {
     "data": {
      "text/plain": [
       "2"
      ]
     },
     "execution_count": 1,
     "metadata": {},
     "output_type": "execute_result"
    }
   ],
   "source": [
    "serie = range (0,10)\n",
    "serie[2]"
   ]
  },
  {
   "cell_type": "code",
   "execution_count": 2,
   "id": "337863fe",
   "metadata": {},
   "outputs": [
    {
     "data": {
      "text/plain": [
       "7"
      ]
     },
     "execution_count": 2,
     "metadata": {},
     "output_type": "execute_result"
    }
   ],
   "source": [
    "serie[7]"
   ]
  },
  {
   "cell_type": "code",
   "execution_count": 3,
   "id": "5ea70a67",
   "metadata": {},
   "outputs": [
    {
     "data": {
      "text/plain": [
       "9"
      ]
     },
     "execution_count": 3,
     "metadata": {},
     "output_type": "execute_result"
    }
   ],
   "source": [
    "serie[9]"
   ]
  },
  {
   "cell_type": "code",
   "execution_count": 4,
   "id": "1d738967",
   "metadata": {},
   "outputs": [],
   "source": [
    "dias_laborables=['lunes','martes','miercoles','jueves','viernes']"
   ]
  },
  {
   "cell_type": "code",
   "execution_count": 5,
   "id": "feaf294d",
   "metadata": {},
   "outputs": [],
   "source": [
    "dias_laborables.append('sabado')"
   ]
  },
  {
   "cell_type": "code",
   "execution_count": 6,
   "id": "8e00996b",
   "metadata": {},
   "outputs": [
    {
     "data": {
      "text/plain": [
       "['lunes', 'martes', 'miercoles', 'jueves', 'viernes', 'sabado']"
      ]
     },
     "execution_count": 6,
     "metadata": {},
     "output_type": "execute_result"
    }
   ],
   "source": [
    "dias_laborables"
   ]
  },
  {
   "cell_type": "code",
   "execution_count": 7,
   "id": "940bc54b",
   "metadata": {},
   "outputs": [
    {
     "data": {
      "text/plain": [
       "['lunes', 'martes', 'miercoles', 'jueves', 'viernes']"
      ]
     },
     "execution_count": 7,
     "metadata": {},
     "output_type": "execute_result"
    }
   ],
   "source": [
    "dias_laborables.pop()\n",
    "dias_laborables"
   ]
  },
  {
   "cell_type": "code",
   "execution_count": 8,
   "id": "042f37cf",
   "metadata": {},
   "outputs": [
    {
     "data": {
      "text/plain": [
       "tuple"
      ]
     },
     "execution_count": 8,
     "metadata": {},
     "output_type": "execute_result"
    }
   ],
   "source": [
    "dias=(\"lun\",\"Mar\",\"Mie\",\"Jue\",\"Vie\",\"Sab\",\"Dom\")\n",
    "type(dias)"
   ]
  },
  {
   "cell_type": "code",
   "execution_count": 9,
   "id": "711fcc93",
   "metadata": {},
   "outputs": [
    {
     "data": {
      "text/plain": [
       "'Jue'"
      ]
     },
     "execution_count": 9,
     "metadata": {},
     "output_type": "execute_result"
    }
   ],
   "source": [
    "dias[3]"
   ]
  },
  {
   "cell_type": "code",
   "execution_count": 11,
   "id": "86628381",
   "metadata": {},
   "outputs": [
    {
     "data": {
      "text/plain": [
       "'Dom'"
      ]
     },
     "execution_count": 11,
     "metadata": {},
     "output_type": "execute_result"
    }
   ],
   "source": [
    "dias[6]"
   ]
  },
  {
   "cell_type": "code",
   "execution_count": 12,
   "id": "efca5450",
   "metadata": {},
   "outputs": [
    {
     "data": {
      "text/plain": [
       "[(3, 5), (4, 6), (5, 7)]"
      ]
     },
     "execution_count": 12,
     "metadata": {},
     "output_type": "execute_result"
    }
   ],
   "source": [
    "#tuplas\n",
    "punto=(3,5)\n",
    "p1=(3,5)\n",
    "p2=(4,6)\n",
    "p3=(5,7)\n",
    "linea=[p1,p2,p3]\n",
    "linea"
   ]
  },
  {
   "cell_type": "code",
   "execution_count": 13,
   "id": "11fa5862",
   "metadata": {},
   "outputs": [
    {
     "data": {
      "text/plain": [
       "[('yari moto', 40), ('edivaldo', 37), ('isidoro', 39)]"
      ]
     },
     "execution_count": 13,
     "metadata": {},
     "output_type": "execute_result"
    }
   ],
   "source": [
    "p1=('yari moto',40)\n",
    "p2=('edivaldo',37)\n",
    "p3=('isidoro',39)\n",
    "profesores=[p1,p2,p3]\n",
    "profesores"
   ]
  },
  {
   "cell_type": "code",
   "execution_count": 14,
   "id": "31701bcb",
   "metadata": {},
   "outputs": [
    {
     "data": {
      "text/plain": [
       "('edivaldo', 37)"
      ]
     },
     "execution_count": 14,
     "metadata": {},
     "output_type": "execute_result"
    }
   ],
   "source": [
    "profesores[1]"
   ]
  },
  {
   "cell_type": "code",
   "execution_count": 15,
   "id": "4c50a2f9",
   "metadata": {},
   "outputs": [
    {
     "data": {
      "text/plain": [
       "37"
      ]
     },
     "execution_count": 15,
     "metadata": {},
     "output_type": "execute_result"
    }
   ],
   "source": [
    "profesores[1][1]"
   ]
  },
  {
   "cell_type": "code",
   "execution_count": 16,
   "id": "ee12327a",
   "metadata": {},
   "outputs": [
    {
     "data": {
      "text/plain": [
       "'yari moto'"
      ]
     },
     "execution_count": 16,
     "metadata": {},
     "output_type": "execute_result"
    }
   ],
   "source": [
    "profesores[0][0]"
   ]
  },
  {
   "cell_type": "code",
   "execution_count": 17,
   "id": "2e532e2f",
   "metadata": {},
   "outputs": [],
   "source": [
    "palabras=[]\n",
    "palabras.append('mandarina')\n",
    "palabras.append('manzana')\n",
    "palabras.append('durazno')\n",
    "palabras.append('sandia')"
   ]
  },
  {
   "cell_type": "code",
   "execution_count": 18,
   "id": "58a233b8",
   "metadata": {},
   "outputs": [
    {
     "data": {
      "text/plain": [
       "('mandarina', 'manzana', 'durazno', 'sandia')"
      ]
     },
     "execution_count": 18,
     "metadata": {},
     "output_type": "execute_result"
    }
   ],
   "source": [
    "nueva=tuple(palabras)\n",
    "nueva"
   ]
  },
  {
   "cell_type": "code",
   "execution_count": 19,
   "id": "30ddf750",
   "metadata": {},
   "outputs": [
    {
     "data": {
      "text/plain": [
       "['mandarina', 'manzana', 'durazno', 'sandia']"
      ]
     },
     "execution_count": 19,
     "metadata": {},
     "output_type": "execute_result"
    }
   ],
   "source": [
    "otra= list(nueva)\n",
    "otra"
   ]
  },
  {
   "cell_type": "code",
   "execution_count": 22,
   "id": "7935f821",
   "metadata": {},
   "outputs": [],
   "source": [
    "coleccion=(2,1,4,6)"
   ]
  },
  {
   "cell_type": "code",
   "execution_count": 9,
   "id": "4afab87e",
   "metadata": {},
   "outputs": [
    {
     "ename": "NameError",
     "evalue": "name 'coleccion' is not defined",
     "output_type": "error",
     "traceback": [
      "\u001b[1;31m---------------------------------------------------------------------------\u001b[0m",
      "\u001b[1;31mNameError\u001b[0m                                 Traceback (most recent call last)",
      "Cell \u001b[1;32mIn[9], line 1\u001b[0m\n\u001b[1;32m----> 1\u001b[0m coleccion\u001b[38;5;241m.\u001b[39madd(\u001b[38;5;241m7\u001b[39m)\n\u001b[0;32m      2\u001b[0m coleccion\n",
      "\u001b[1;31mNameError\u001b[0m: name 'coleccion' is not defined"
     ]
    }
   ],
   "source": [
    "coleccion.add(7)\n",
    "coleccion"
   ]
  },
  {
   "cell_type": "code",
   "execution_count": 11,
   "id": "d946f07e",
   "metadata": {},
   "outputs": [
    {
     "data": {
      "text/plain": [
       "['_', '_', '_', '_', '_', '_', '_']"
      ]
     },
     "execution_count": 11,
     "metadata": {},
     "output_type": "execute_result"
    }
   ],
   "source": [
    "palabra = \"durazno\"\n",
    "lista = []\n",
    "for elemento in palabra:\n",
    "    lista.append('_')\n",
    "lista"
   ]
  },
  {
   "cell_type": "code",
   "execution_count": 12,
   "id": "3c08b79d",
   "metadata": {},
   "outputs": [
    {
     "data": {
      "text/plain": [
       "['_', '_', '_', '_', '_', '_', '_', '_']"
      ]
     },
     "execution_count": 12,
     "metadata": {},
     "output_type": "execute_result"
    }
   ],
   "source": [
    "palabra = 'durazno '\n",
    "lista = ['_'for elemento in palabra]\n",
    "lista"
   ]
  },
  {
   "cell_type": "markdown",
   "id": "db2a35d4",
   "metadata": {},
   "source": [
    "# otra forma"
   ]
  },
  {
   "cell_type": "code",
   "execution_count": 13,
   "id": "cbeb93e4",
   "metadata": {},
   "outputs": [
    {
     "data": {
      "text/plain": [
       "['_', '_', '_', '_']"
      ]
     },
     "execution_count": 13,
     "metadata": {},
     "output_type": "execute_result"
    }
   ],
   "source": [
    "palabra='lima'\n",
    "lista= ['_'for elemento in palabra]\n",
    "lista"
   ]
  },
  {
   "cell_type": "markdown",
   "id": "75183e0b",
   "metadata": {},
   "source": [
    "# ARCHIVOS"
   ]
  },
  {
   "cell_type": "code",
   "execution_count": 5,
   "id": "b71d05c3",
   "metadata": {},
   "outputs": [
    {
     "data": {
      "text/plain": [
       "<_io.TextIOWrapper name='palabras.txt' mode='w' encoding='cp1252'>"
      ]
     },
     "execution_count": 5,
     "metadata": {},
     "output_type": "execute_result"
    }
   ],
   "source": [
    "archivo= open('palabras.txt','w')\n",
    "archivo"
   ]
  },
  {
   "cell_type": "code",
   "execution_count": 6,
   "id": "c7a8260b",
   "metadata": {},
   "outputs": [
    {
     "data": {
      "text/plain": [
       "7"
      ]
     },
     "execution_count": 6,
     "metadata": {},
     "output_type": "execute_result"
    }
   ],
   "source": [
    "archivo.write('platano')"
   ]
  },
  {
   "cell_type": "code",
   "execution_count": 7,
   "id": "397d69a2",
   "metadata": {},
   "outputs": [
    {
     "data": {
      "text/plain": [
       "7"
      ]
     },
     "execution_count": 7,
     "metadata": {},
     "output_type": "execute_result"
    }
   ],
   "source": [
    "archivo.write('durazno')"
   ]
  },
  {
   "cell_type": "code",
   "execution_count": 8,
   "id": "c0311b1d",
   "metadata": {},
   "outputs": [],
   "source": [
    "archivo.close()"
   ]
  },
  {
   "cell_type": "code",
   "execution_count": 9,
   "id": "3011dcb8",
   "metadata": {},
   "outputs": [
    {
     "data": {
      "text/plain": [
       "8"
      ]
     },
     "execution_count": 9,
     "metadata": {},
     "output_type": "execute_result"
    }
   ],
   "source": [
    "archivo=open('palabras.txt','a')\n",
    "archivo.write('frutilla')"
   ]
  },
  {
   "cell_type": "code",
   "execution_count": 10,
   "id": "6891e4cc",
   "metadata": {},
   "outputs": [
    {
     "data": {
      "text/plain": [
       "8"
      ]
     },
     "execution_count": 10,
     "metadata": {},
     "output_type": "execute_result"
    }
   ],
   "source": [
    "archivo.write('manzana\\n')"
   ]
  },
  {
   "cell_type": "code",
   "execution_count": 11,
   "id": "010caac2",
   "metadata": {},
   "outputs": [],
   "source": [
    "archivo.close()"
   ]
  },
  {
   "cell_type": "markdown",
   "id": "91223097",
   "metadata": {},
   "source": [
    "# leyendo un archivo\n"
   ]
  },
  {
   "cell_type": "code",
   "execution_count": 12,
   "id": "f7e6ff87",
   "metadata": {},
   "outputs": [],
   "source": [
    "archivo= open('palabras.txt','r')# abrimos un archivo solo para lectura"
   ]
  },
  {
   "cell_type": "code",
   "execution_count": 13,
   "id": "2964a52a",
   "metadata": {},
   "outputs": [
    {
     "ename": "UnsupportedOperation",
     "evalue": "not writable",
     "output_type": "error",
     "traceback": [
      "\u001b[1;31m---------------------------------------------------------------------------\u001b[0m",
      "\u001b[1;31mUnsupportedOperation\u001b[0m                      Traceback (most recent call last)",
      "Cell \u001b[1;32mIn[13], line 1\u001b[0m\n\u001b[1;32m----> 1\u001b[0m archivo\u001b[38;5;241m.\u001b[39mwrite(\u001b[38;5;124m'\u001b[39m\u001b[38;5;124mchirimoya\u001b[39m\u001b[38;5;124m'\u001b[39m)\n",
      "\u001b[1;31mUnsupportedOperation\u001b[0m: not writable"
     ]
    }
   ],
   "source": [
    "archivo.write('chirimoya')"
   ]
  },
  {
   "cell_type": "code",
   "execution_count": 14,
   "id": "4caf03c2",
   "metadata": {},
   "outputs": [
    {
     "data": {
      "text/plain": [
       "'platano\\ndurazno\\nfrutilla\\nmanzana\\n'"
      ]
     },
     "execution_count": 14,
     "metadata": {},
     "output_type": "execute_result"
    }
   ],
   "source": [
    "archivo.read()"
   ]
  },
  {
   "cell_type": "code",
   "execution_count": 15,
   "id": "76d928d3",
   "metadata": {},
   "outputs": [
    {
     "data": {
      "text/plain": [
       "''"
      ]
     },
     "execution_count": 15,
     "metadata": {},
     "output_type": "execute_result"
    }
   ],
   "source": [
    "archivo.read()"
   ]
  },
  {
   "cell_type": "markdown",
   "id": "3b330dad",
   "metadata": {},
   "source": [
    "# queremos leer linea por linea,no todo el archivo\n"
   ]
  },
  {
   "cell_type": "code",
   "execution_count": 16,
   "id": "c3b456df",
   "metadata": {},
   "outputs": [
    {
     "name": "stdout",
     "output_type": "stream",
     "text": [
      "platano\n",
      "\n",
      "durazno\n",
      "\n",
      "frutilla\n",
      "\n",
      "manzana\n",
      "\n"
     ]
    }
   ],
   "source": [
    "archivo=open('palabras.txt','r')\n",
    "for linea in archivo:\n",
    "    print(linea)"
   ]
  },
  {
   "cell_type": "code",
   "execution_count": 17,
   "id": "5b3ae857",
   "metadata": {},
   "outputs": [
    {
     "data": {
      "text/plain": [
       "str"
      ]
     },
     "execution_count": 17,
     "metadata": {},
     "output_type": "execute_result"
    }
   ],
   "source": [
    "archivo.close()\n",
    "archivo=open('palabras.txt','r')\n",
    "linea=archivo.readline()\n",
    "type(linea)"
   ]
  },
  {
   "cell_type": "code",
   "execution_count": 18,
   "id": "8e406609",
   "metadata": {},
   "outputs": [
    {
     "name": "stdout",
     "output_type": "stream",
     "text": [
      "durazno\n",
      "\n",
      "frutilla\n",
      "\n",
      "manzana\n",
      "\n"
     ]
    }
   ],
   "source": [
    "for linea in archivo:\n",
    "    print(linea)"
   ]
  },
  {
   "cell_type": "code",
   "execution_count": 19,
   "id": "1a5aac1a",
   "metadata": {},
   "outputs": [
    {
     "data": {
      "text/plain": [
       "'manzana\\n'"
      ]
     },
     "execution_count": 19,
     "metadata": {},
     "output_type": "execute_result"
    }
   ],
   "source": [
    "linea"
   ]
  },
  {
   "cell_type": "code",
   "execution_count": 20,
   "id": "f76a74ae",
   "metadata": {},
   "outputs": [
    {
     "data": {
      "text/plain": [
       "'manzana'"
      ]
     },
     "execution_count": 20,
     "metadata": {},
     "output_type": "execute_result"
    }
   ],
   "source": [
    "linea.strip()"
   ]
  },
  {
   "cell_type": "code",
   "execution_count": null,
   "id": "1a22e1dd",
   "metadata": {},
   "outputs": [],
   "source": [
    "import random \n",
    "random.randrange# completaremos la proxima clase"
   ]
  },
  {
   "cell_type": "markdown",
   "id": "00904f96",
   "metadata": {},
   "source": [
    "# Ejercicios"
   ]
  },
  {
   "cell_type": "code",
   "execution_count": 30,
   "id": "846f25e8",
   "metadata": {},
   "outputs": [
    {
     "name": "stdout",
     "output_type": "stream",
     "text": [
      " ingresa tu nombre: lis\n",
      "ingresa tu edad: 34\n",
      "Hola, lis. Tu edad es 34 años.\n"
     ]
    }
   ],
   "source": [
    "nombre = input(\" ingresa tu nombre: \")\n",
    "\n",
    "edad = input(\"ingresa tu edad: \")\n",
    "\n",
    "print(\"Hola, \" + nombre + \". Tu edad es \" + edad + \" años.\")"
   ]
  },
  {
   "cell_type": "code",
   "execution_count": 39,
   "id": "d1491795",
   "metadata": {},
   "outputs": [
    {
     "name": "stdout",
     "output_type": "stream",
     "text": [
      "Ingresa el primer número: 5\n",
      "Ingresa el segundo número: 6\n",
      "Ingresa el tercer número: 7\n",
      "El número mayor es: 7\n"
     ]
    }
   ],
   "source": [
    "a = input(\"Ingresa el primer número: \")\n",
    "b = input(\"Ingresa el segundo número: \")\n",
    "c = input(\"Ingresa el tercer número: \")\n",
    "\n",
    "numero_mayor = max(a, b, c)\n",
    "\n",
    "print(\"El número mayor es:\", numero_mayor)"
   ]
  },
  {
   "cell_type": "code",
   "execution_count": 41,
   "id": "7de23617",
   "metadata": {},
   "outputs": [
    {
     "name": "stdout",
     "output_type": "stream",
     "text": [
      "ingrese un numero:5\n",
      "ingrese un numero:6\n",
      "ingrese un numero:8\n",
      "8\n"
     ]
    }
   ],
   "source": [
    "nummayor=0\n",
    "numeros=[]\n",
    "for i in range(3):\n",
    "    num=int(input(\"ingrese un numero:\"))\n",
    "    numeros.append(num)\n",
    "    \n",
    "print(max(numeros))"
   ]
  },
  {
   "cell_type": "markdown",
   "id": "8d2cd753",
   "metadata": {},
   "source": [
    "\n",
    "suma = 0\n",
    "\n",
    "for i in range(5):\n",
    "    numero = int(input(\"Ingrese un número: \"))\n",
    "    suma += numero  \n",
    "\n",
    "promedio = suma // 5\n",
    "\n",
    "print(\"El promedio de los 5 números es:\", promedio)\n"
   ]
  },
  {
   "cell_type": "code",
   "execution_count": 2,
   "id": "2a8131d1",
   "metadata": {},
   "outputs": [
    {
     "name": "stdout",
     "output_type": "stream",
     "text": [
      "ingrese numero:5\n",
      "cinco\n"
     ]
    }
   ],
   "source": [
    "numero=0\n",
    "listas_unidades = [0,1,2,3,4,5,6,7,8,9]\n",
    "unidades = ['','uno','dos','tres','cuatro','cinco','seis','siete','ocho','nueve']\n",
    "\n",
    "literal=''\n",
    "numero= int(input('ingrese numero:'))\n",
    "literal= unidades[numero]\n",
    "print(literal)"
   ]
  },
  {
   "cell_type": "code",
   "execution_count": 23,
   "id": "5148d6e4",
   "metadata": {},
   "outputs": [
    {
     "name": "stdout",
     "output_type": "stream",
     "text": [
      "ingrese un numero30\n",
      "treinta\n"
     ]
    }
   ],
   "source": [
    "numero = 0\n",
    "lista_unidades = [0,1,2,3,4,5,6,7,8,9]\n",
    "decenas = ['','diez','veinte','treinta','cuarenta','cincuenta','secenta','setenta','ochenta','noventa']\n",
    "unidades = ['','uno','dos','tres','cuatro','cinco','seis','siete','ocho','nueve']\n",
    "dieces = ['','once','doce','trece','catroce','quince','diezsiseis','diezsisiete','diezocho','diecinueve']\n",
    "literal = ''\n",
    "numero = input('ingrese un numero')\n",
    "posicion = 2\n",
    "for indice in numero:\n",
    "    if (posicion ==2)add indice=='1':\n",
    "        literal = literal + decenas[int(indice)]\n",
    "    if (posicion == 1):\n",
    "        literal = literal+ unidades[int(indice)]\n",
    "        posicion = posicion -1\n",
    "print(literal)"
   ]
  },
  {
   "cell_type": "markdown",
   "id": "e89ba57b",
   "metadata": {},
   "source": []
  },
  {
   "cell_type": "code",
   "execution_count": null,
   "id": "17e901c1",
   "metadata": {},
   "outputs": [
    {
     "name": "stdout",
     "output_type": "stream",
     "text": [
      "========================================\n",
      "Bienvenido al Juego de la horca\n",
      "========================================\n",
      "[1, 1, 1, 1, 1, 1, 1]\n",
      "['_', '_', '_', '_', '_', '_', '_']\n"
     ]
    }
   ],
   "source": [
    "import random\n",
    "\n",
    "def imprimir_mensaje_inicial():\n",
    "    print('========================================')\n",
    "    print('Bienvenido al Juego de la horca')\n",
    "    print('========================================')\n",
    "\n",
    "def definir_palabra_secreta():\n",
    "    archivo= open('palabras.txt', 'r')\n",
    "    palabras = [] \n",
    "    for linea in archivo:\n",
    "        linea= linea.strip()\n",
    "        palabras.append(linea)\n",
    "        \n",
    "    archivo.close()\n",
    "    numero = random.randrange(0, len(palabras))    \n",
    "    palabra_secreta =palabras[numero].lower()\n",
    "    letras_acertadas =['_' for elemento in palabra_secreta]\n",
    "    return palabra_secreta\n",
    "\n",
    "def medir_largo_palabra(palabra_secreta):\n",
    "    return len(palabra_secreta)\n",
    "\n",
    "\n",
    "def inicializar_letras_acertadas(palabra_secreta):\n",
    "    return ['_' for elemento in palabra_secreta]\n",
    "\n",
    "def leer_entrada():\n",
    "    entrada= input('Ingrese una letra... ')\n",
    "    entrada = entrada.strip()\n",
    "    entrada = entrada.lower()\n",
    "    return entrada\n",
    "\n",
    "def marcar_entrada_correcta(entrada, palabra_secreta, letras_acertadas):\n",
    "    indice = 0\n",
    "    for letra in palabra_secreta:\n",
    "        if(entrada==letra):\n",
    "             letras_acertadas[indice] = letra\n",
    "        indice = indice + 1\n",
    "        \n",
    "def imprimir_mensaje_ganador():\n",
    "    print(\"\\n Felicitaciones, ganaste el juego!\")\n",
    "    print(\"       _____      \")\n",
    "    print(\"      '.=====.'     \")\n",
    "    print(\"      .-\\\\:      /-.    \")\n",
    "    print(\"     | (|:.     |) |    \")\n",
    "    print(\"      '-|:.     |-'     \")\n",
    "    print(\"        \\\\::.    /      \")\n",
    "    print(\"         '::. .'        \")\n",
    "    print(\"           ) (          \")\n",
    "    print(\"         .' '.        \")\n",
    "    print(\"        '-------'       \")        \n",
    "       \n",
    "    \n",
    "def imprimir_mensaje_perdedor(palabra_secreta):\n",
    "    print(\"\\n Lo siento, fuiste ahorcado!\")\n",
    "    print(\"La palabra era {}\".format(palabra_secreta))\n",
    "    print(\"    _____         \")\n",
    "    print(\"   /               \\       \")\n",
    "    print(\"  /                 \\      \")\n",
    "    print(\"//                   \\/\\  \")\n",
    "    print(\"\\|   XXXX     XXXX   | /   \")\n",
    "    print(\" |   XXXX     XXXX   |/     \")\n",
    "    print(\" |   XXX       XXX   |      \")\n",
    "    print(\" |                   |      \")\n",
    "    print(\" \\_      XXX      _/     \")\n",
    "    print(\"   |\\     XXX     /|       \")\n",
    "    print(\"   | |           | |        \")\n",
    "    print(\"   | I I I I I I I |        \")\n",
    "    print(\"   |  I I I I I I  |        \")\n",
    "    print(\"   \\_             _/       \")\n",
    "    print(\"     \\_         _/         \")\n",
    "    print(\"       \\___/           \")       \n",
    "    \n",
    "def dibujar_ahorcado(errores,pasos_dibujo):\n",
    "    print(\"  ___     \")\n",
    "    print(\" |/      |    \")\n",
    "\n",
    "    if(errores == 1):\n",
    "        print(\" |      (_)   \")\n",
    "        print(\" |            \")\n",
    "        print(\" |            \")\n",
    "        print(\" |            \")\n",
    "\n",
    "    if(errores == 2):\n",
    "        print(\" |      (_)   \")\n",
    "        print(\" |      \\     \")\n",
    "        print(\" |            \")\n",
    "        print(\" |            \")\n",
    "\n",
    "    if(errores == 3):\n",
    "        print(\" |      (_)   \")\n",
    "        print(\" |      \\|    \")\n",
    "        print(\" |            \")\n",
    "        print(\" |            \")\n",
    "\n",
    "    if(errores == 4):\n",
    "        print(\" |      (_)   \")\n",
    "        print(\" |      \\|/   \")\n",
    "        print(\" |            \")\n",
    "        print(\" |            \")\n",
    "\n",
    "    if(errores == 5):\n",
    "        print(\" |      (_)   \")\n",
    "        print(\" |      \\|/   \")\n",
    "        print(\" |       |    \")\n",
    "        print(\" |            \")\n",
    "\n",
    "    if(errores == 6):\n",
    "        print(\" |      (_)   \")\n",
    "        print(\" |      \\|/   \")\n",
    "        print(\" |       |    \")\n",
    "        print(\" |      /     \")\n",
    "\n",
    "    if (errores == 7):\n",
    "        print(\" |      (_)   \")\n",
    "        print(\" |      \\|/   \")\n",
    "        print(\" |       |    \")\n",
    "        print(\" |      / \\   \")\n",
    "\n",
    "    print(\" |            \")\n",
    "    print(\"|__         \")\n",
    "    print() \n",
    "    \n",
    "    \n",
    "def dibujar_ahorcado2( errores):\n",
    "    print(\"  ___     \")\n",
    "    print(\" |/      |    \")\n",
    "\n",
    "    if(errores == 1):\n",
    "        print(\" |      (_)   \")\n",
    "        print(\" |            \")\n",
    "        print(\" |            \")\n",
    "        print(\" |            \")\n",
    "\n",
    "    if(errores == 2):\n",
    "        print(\" |      (_)   \")\n",
    "        print(\" |      \\     \")\n",
    "        print(\" |            \")\n",
    "        print(\" |            \")\n",
    "\n",
    "    if(errores == 3):\n",
    "        print(\" |      (_)   \")\n",
    "        print(\" |      \\|    \")\n",
    "        print(\" |            \")\n",
    "        print(\" |            \")\n",
    "\n",
    "    if(errores == 4):\n",
    "        print(\" |      (_)   \")\n",
    "        print(\" |      \\|/   \")\n",
    "        print(\" |            \")\n",
    "        print(\" |            \")\n",
    "\n",
    "    if(errores == 5):\n",
    "        print(\" |      (_)   \")\n",
    "        print(\" |      \\|/   \")\n",
    "        print(\" |       |    \")\n",
    "        print(\" |            \")\n",
    "\n",
    "    if(errores == 6):\n",
    "        print(\" |      (_)   \")\n",
    "        print(\" |      \\|/   \")\n",
    "        print(\" |       |    \")\n",
    "        print(\" |      /     \")\n",
    "\n",
    "    if (errores == 7):\n",
    "        print(\" |      (_)   \")\n",
    "        print(\" |      \\|/   \")\n",
    "        print(\" |       |    \")\n",
    "        print(\" |      / \\   \")\n",
    "\n",
    "    print(\" |            \")\n",
    "    print(\"|__         \")\n",
    "    print() \n",
    "    \n",
    "def calcular_iteraciones_dibujo(largo_palabra,pasos_dibujo):\n",
    "    #rellenar pasos dibujo\n",
    "    for i in range(largo_palabra):\n",
    "        pasos_dibujo.append(1)#agregamos un 1 a la lista\n",
    "    sumar_pasos= sum(pasos_dibujo)# sumamos el contenido de la lista\n",
    "    \n",
    "    \n",
    "    while(sumar_pasos<7 and largo_palabra<7):\n",
    "        #ciclo para recorrer pasos dibujo\n",
    "        for i in range(largo_palabra):\n",
    "            pasos_dibujo[i]=pasos_dibujo[i]+1\n",
    "            sumar_pasos = sum(pasos_dibujo)#sumamos el contenido de la lista\n",
    "            if (sumar_pasos==7):\n",
    "                break\n",
    "                \n",
    "    while(sumar_pasos>7 and largo_palabra >7):\n",
    "        # ciclo para recorrer pasos_dibujo\n",
    "        for i in range(largo_palabra):\n",
    "            if i % 2!=0:#determina si es impar\n",
    "                pasos_dibujo[i]=0\n",
    "                sumar_pasos = sum(pasos_dibujo)#sumamos el contenido\n",
    "            if(sumar_pasos ==7):\n",
    "                break\n",
    "                \n",
    "    return pasos_dibujo\n",
    "\n",
    "\n",
    "\n",
    "\n",
    "\n",
    "    \n",
    "def jugar():\n",
    "    \n",
    "    imprimir_mensaje_inicial()\n",
    "    \n",
    "    palabra_secreta = definir_palabra_secreta()\n",
    "    \n",
    "    letras_acertadas = inicializar_letras_acertadas(palabra_secreta)\n",
    "    \n",
    "    ahorcado = False\n",
    "    acerto = False\n",
    "    errores = 0 #contador de errores\n",
    "    \n",
    "    \n",
    "    pasos_dibujo =[] # guarda las iteraciones para dibujar el ahorcado\n",
    "    pasos_dibujo = calcular_iteraciones_dibujo(len(palabra_secreta),pasos_dibujo)\n",
    "    print(pasos_dibujo)\n",
    "    \n",
    "    \n",
    "    \n",
    "    print(letras_acertadas)\n",
    "    while(not ahorcado and not acerto):\n",
    "        entrada = leer_entrada()\n",
    "        \n",
    "        if entrada in palabra_secreta:\n",
    "            marcar_entrada_correcta(entrada, palabra_secreta, letras_acertadas)\n",
    "        else:\n",
    "            errores += 1\n",
    "            dibujar_ahorcado(errores,pasos_dibujo)\n",
    "        \n",
    "        ahorcado=errores== medir_largo_palabra(palabra_secreta)#largo de la palabra                    \n",
    "        acerto = \"_\" not in letras_acertadas\n",
    "        print(letras_acertadas)\n",
    "       \n",
    "    if(acerto):\n",
    "        imprimir_mensaje_ganador()\n",
    "    else:\n",
    "        imprimir_mensaje_perdedor(palabra_secreta)\n",
    "       \n",
    "   \n",
    "    \n",
    "if(__name__ == \"__main__\"):\n",
    "    jugar()"
   ]
  },
  {
   "cell_type": "code",
   "execution_count": null,
   "id": "0059174b",
   "metadata": {},
   "outputs": [],
   "source": []
  }
 ],
 "metadata": {
  "kernelspec": {
   "display_name": "Python 3 (ipykernel)",
   "language": "python",
   "name": "python3"
  },
  "language_info": {
   "codemirror_mode": {
    "name": "ipython",
    "version": 3
   },
   "file_extension": ".py",
   "mimetype": "text/x-python",
   "name": "python",
   "nbconvert_exporter": "python",
   "pygments_lexer": "ipython3",
   "version": "3.11.4"
  }
 },
 "nbformat": 4,
 "nbformat_minor": 5
}
