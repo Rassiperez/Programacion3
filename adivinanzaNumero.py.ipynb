{
 "cells": [
  {
   "cell_type": "code",
   "execution_count": 8,
   "id": "5bd71985",
   "metadata": {},
   "outputs": [
    {
     "name": "stdout",
     "output_type": "stream",
     "text": [
      "========================================\n",
      "Bienvenido al Juego de la Ahorcado\n",
      "========================================\n",
      "ingrese una letra...a\n",
      "Se encontro la letra a en la posicion 1\n",
      "Se encontro la letra a en la posicion 4\n",
      "Se encontro la letra a en la posicion 8\n",
      "jugando...\n",
      "ingrese una letra...M\n",
      "Se encontro la letra m en la posicion 0\n",
      "jugando...\n"
     ]
    },
    {
     "ename": "KeyboardInterrupt",
     "evalue": "Interrupted by user",
     "output_type": "error",
     "traceback": [
      "\u001b[1;31m---------------------------------------------------------------------------\u001b[0m",
      "\u001b[1;31mKeyboardInterrupt\u001b[0m                         Traceback (most recent call last)",
      "Cell \u001b[1;32mIn[8], line 27\u001b[0m\n\u001b[0;32m     24\u001b[0m     \u001b[38;5;28mprint\u001b[39m(\u001b[38;5;124m\"\u001b[39m\u001b[38;5;124mfin del juego\u001b[39m\u001b[38;5;124m\"\u001b[39m)\n\u001b[0;32m     26\u001b[0m \u001b[38;5;28;01mif\u001b[39;00m(\u001b[38;5;18m__name__\u001b[39m \u001b[38;5;241m==\u001b[39m\u001b[38;5;124m\"\u001b[39m\u001b[38;5;124m__main__\u001b[39m\u001b[38;5;124m\"\u001b[39m):\n\u001b[1;32m---> 27\u001b[0m    jugar()\n",
      "Cell \u001b[1;32mIn[8], line 12\u001b[0m, in \u001b[0;36mjugar\u001b[1;34m()\u001b[0m\n\u001b[0;32m      9\u001b[0m acerto\u001b[38;5;241m=\u001b[39m \u001b[38;5;28;01mFalse\u001b[39;00m\n\u001b[0;32m     11\u001b[0m \u001b[38;5;28;01mwhile\u001b[39;00m(\u001b[38;5;129;01mnot\u001b[39;00m ahorcado \u001b[38;5;129;01mand\u001b[39;00m \u001b[38;5;129;01mnot\u001b[39;00m acerto):\n\u001b[1;32m---> 12\u001b[0m     entrada\u001b[38;5;241m=\u001b[39m \u001b[38;5;28minput\u001b[39m(\u001b[38;5;124m\"\u001b[39m\u001b[38;5;124mingrese una letra...\u001b[39m\u001b[38;5;124m\"\u001b[39m)\n\u001b[0;32m     13\u001b[0m     entrada\u001b[38;5;241m=\u001b[39m entrada\u001b[38;5;241m.\u001b[39mstrip()\n\u001b[0;32m     14\u001b[0m     entrada\u001b[38;5;241m=\u001b[39m entrada\u001b[38;5;241m.\u001b[39mlower()\n",
      "File \u001b[1;32m~\\anaconda3\\Lib\\site-packages\\ipykernel\\kernelbase.py:1175\u001b[0m, in \u001b[0;36mKernel.raw_input\u001b[1;34m(self, prompt)\u001b[0m\n\u001b[0;32m   1171\u001b[0m \u001b[38;5;28;01mif\u001b[39;00m \u001b[38;5;129;01mnot\u001b[39;00m \u001b[38;5;28mself\u001b[39m\u001b[38;5;241m.\u001b[39m_allow_stdin:\n\u001b[0;32m   1172\u001b[0m     \u001b[38;5;28;01mraise\u001b[39;00m StdinNotImplementedError(\n\u001b[0;32m   1173\u001b[0m         \u001b[38;5;124m\"\u001b[39m\u001b[38;5;124mraw_input was called, but this frontend does not support input requests.\u001b[39m\u001b[38;5;124m\"\u001b[39m\n\u001b[0;32m   1174\u001b[0m     )\n\u001b[1;32m-> 1175\u001b[0m \u001b[38;5;28;01mreturn\u001b[39;00m \u001b[38;5;28mself\u001b[39m\u001b[38;5;241m.\u001b[39m_input_request(\n\u001b[0;32m   1176\u001b[0m     \u001b[38;5;28mstr\u001b[39m(prompt),\n\u001b[0;32m   1177\u001b[0m     \u001b[38;5;28mself\u001b[39m\u001b[38;5;241m.\u001b[39m_parent_ident[\u001b[38;5;124m\"\u001b[39m\u001b[38;5;124mshell\u001b[39m\u001b[38;5;124m\"\u001b[39m],\n\u001b[0;32m   1178\u001b[0m     \u001b[38;5;28mself\u001b[39m\u001b[38;5;241m.\u001b[39mget_parent(\u001b[38;5;124m\"\u001b[39m\u001b[38;5;124mshell\u001b[39m\u001b[38;5;124m\"\u001b[39m),\n\u001b[0;32m   1179\u001b[0m     password\u001b[38;5;241m=\u001b[39m\u001b[38;5;28;01mFalse\u001b[39;00m,\n\u001b[0;32m   1180\u001b[0m )\n",
      "File \u001b[1;32m~\\anaconda3\\Lib\\site-packages\\ipykernel\\kernelbase.py:1217\u001b[0m, in \u001b[0;36mKernel._input_request\u001b[1;34m(self, prompt, ident, parent, password)\u001b[0m\n\u001b[0;32m   1214\u001b[0m             \u001b[38;5;28;01mbreak\u001b[39;00m\n\u001b[0;32m   1215\u001b[0m \u001b[38;5;28;01mexcept\u001b[39;00m \u001b[38;5;167;01mKeyboardInterrupt\u001b[39;00m:\n\u001b[0;32m   1216\u001b[0m     \u001b[38;5;66;03m# re-raise KeyboardInterrupt, to truncate traceback\u001b[39;00m\n\u001b[1;32m-> 1217\u001b[0m     \u001b[38;5;28;01mraise\u001b[39;00m \u001b[38;5;167;01mKeyboardInterrupt\u001b[39;00m(\u001b[38;5;124m\"\u001b[39m\u001b[38;5;124mInterrupted by user\u001b[39m\u001b[38;5;124m\"\u001b[39m) \u001b[38;5;28;01mfrom\u001b[39;00m \u001b[38;5;28;01mNone\u001b[39;00m\n\u001b[0;32m   1218\u001b[0m \u001b[38;5;28;01mexcept\u001b[39;00m \u001b[38;5;167;01mException\u001b[39;00m:\n\u001b[0;32m   1219\u001b[0m     \u001b[38;5;28mself\u001b[39m\u001b[38;5;241m.\u001b[39mlog\u001b[38;5;241m.\u001b[39mwarning(\u001b[38;5;124m\"\u001b[39m\u001b[38;5;124mInvalid Message:\u001b[39m\u001b[38;5;124m\"\u001b[39m, exc_info\u001b[38;5;241m=\u001b[39m\u001b[38;5;28;01mTrue\u001b[39;00m)\n",
      "\u001b[1;31mKeyboardInterrupt\u001b[0m: Interrupted by user"
     ]
    }
   ],
   "source": [
    "def jugar():\n",
    "    print('========================================')\n",
    "    print('Bienvenido al Juego de la Ahorcado')\n",
    "    print('========================================')\n",
    "    \n",
    "    palabra_secreta=\"mandarina\"\n",
    "    letras_acertadas=['_','_','_','_','_','_','_','_','_']\n",
    "    \n",
    "    ahorcado = False\n",
    "    acerto= False\n",
    "    \n",
    "    while(not ahorcado and not acerto):\n",
    "        entrada= input(\"ingrese una letra...\")\n",
    "        entrada= entrada.strip()\n",
    "        entrada= entrada.lower()\n",
    "        indice=0\n",
    "        for letra in palabra_secreta:\n",
    "            if(entrada==letra):\n",
    "                print(\"Se encontro la letra {} en la posicion {}\".format(letra,indice))\n",
    "                \n",
    "            indice= indice+1\n",
    "                \n",
    "        print(\"jugando...\")\n",
    "        \n",
    "    print(\"fin del juego\")\n",
    "  \n",
    "if(__name__ ==\"__main__\"):\n",
    "   jugar()"
   ]
  },
  {
   "cell_type": "code",
   "execution_count": 5,
   "id": "0e370e42",
   "metadata": {},
   "outputs": [
    {
     "data": {
      "text/plain": [
       "'Mandarina'"
      ]
     },
     "execution_count": 5,
     "metadata": {},
     "output_type": "execute_result"
    }
   ],
   "source": [
    "palabra= \"mandarina\"\n",
    "palabra.capitalize() # convierte la primera letra en mayuscula"
   ]
  },
  {
   "cell_type": "code",
   "execution_count": null,
   "id": "2eaeeb89",
   "metadata": {},
   "outputs": [],
   "source": [
    "palabra.endswith(\"na\")#busca una sud cadena al final"
   ]
  },
  {
   "cell_type": "code",
   "execution_count": null,
   "id": "534f0601",
   "metadata": {},
   "outputs": [],
   "source": [
    "palabra2=\"PROGRAMACION TRES\"\n",
    "palabra2.lower()# convierte toda la cadena a minisculas"
   ]
  },
  {
   "cell_type": "code",
   "execution_count": null,
   "id": "6b6cb911",
   "metadata": {},
   "outputs": [],
   "source": [
    "palabra.upper() #convierte toda la cadena a mayusculas"
   ]
  },
  {
   "cell_type": "code",
   "execution_count": null,
   "id": "ee672f37",
   "metadata": {},
   "outputs": [],
   "source": [
    "palabra= \"     abc     \"\n",
    "palabra.strip() # elimina los espacios en blancos q alla hacia la izquierda y derecha\n"
   ]
  },
  {
   "cell_type": "code",
   "execution_count": null,
   "id": "5efee20a",
   "metadata": {},
   "outputs": [],
   "source": [
    "palabra= \"mandarina\"\n",
    "type (palabra) # referencia a palabra el type"
   ]
  },
  {
   "cell_type": "code",
   "execution_count": null,
   "id": "d2efcd31",
   "metadata": {},
   "outputs": [],
   "source": [
    "palabra.find(\"m\")"
   ]
  },
  {
   "cell_type": "code",
   "execution_count": null,
   "id": "9a62d3ff",
   "metadata": {},
   "outputs": [],
   "source": [
    "palabra.find(\"z\")# no encontro la letra o en la sud cadena siemore nos devuelve el valor de-1"
   ]
  },
  {
   "cell_type": "code",
   "execution_count": 9,
   "id": "eba88b5c",
   "metadata": {},
   "outputs": [
    {
     "data": {
      "text/plain": [
       "list"
      ]
     },
     "execution_count": 9,
     "metadata": {},
     "output_type": "execute_result"
    }
   ],
   "source": [
    "valores=[]\n",
    "type (valores)"
   ]
  },
  {
   "cell_type": "code",
   "execution_count": 10,
   "id": "55d04e54",
   "metadata": {},
   "outputs": [
    {
     "data": {
      "text/plain": [
       "False"
      ]
     },
     "execution_count": 10,
     "metadata": {},
     "output_type": "execute_result"
    }
   ],
   "source": [
    "valores=[0,1,2,3,'x']\n",
    "7 in valores"
   ]
  },
  {
   "cell_type": "code",
   "execution_count": 11,
   "id": "475a000b",
   "metadata": {},
   "outputs": [
    {
     "data": {
      "text/plain": [
       "True"
      ]
     },
     "execution_count": 11,
     "metadata": {},
     "output_type": "execute_result"
    }
   ],
   "source": [
    "'a'in 'mandarina'"
   ]
  },
  {
   "cell_type": "code",
   "execution_count": 12,
   "id": "c5faa471",
   "metadata": {},
   "outputs": [
    {
     "ename": "TypeError",
     "evalue": "'<' not supported between instances of 'str' and 'int'",
     "output_type": "error",
     "traceback": [
      "\u001b[1;31m---------------------------------------------------------------------------\u001b[0m",
      "\u001b[1;31mTypeError\u001b[0m                                 Traceback (most recent call last)",
      "Cell \u001b[1;32mIn[12], line 1\u001b[0m\n\u001b[1;32m----> 1\u001b[0m \u001b[38;5;28mmin\u001b[39m(valores)\n",
      "\u001b[1;31mTypeError\u001b[0m: '<' not supported between instances of 'str' and 'int'"
     ]
    }
   ],
   "source": [
    "min(valores)"
   ]
  },
  {
   "cell_type": "code",
   "execution_count": 14,
   "id": "87af8a58",
   "metadata": {},
   "outputs": [],
   "source": [
    "valores=[0,1,2,3,5,7]"
   ]
  },
  {
   "cell_type": "code",
   "execution_count": 15,
   "id": "1d0cca72",
   "metadata": {},
   "outputs": [
    {
     "data": {
      "text/plain": [
       "0"
      ]
     },
     "execution_count": 15,
     "metadata": {},
     "output_type": "execute_result"
    }
   ],
   "source": [
    "min(valores)"
   ]
  },
  {
   "cell_type": "code",
   "execution_count": 16,
   "id": "a9f660bb",
   "metadata": {},
   "outputs": [
    {
     "data": {
      "text/plain": [
       "7"
      ]
     },
     "execution_count": 16,
     "metadata": {},
     "output_type": "execute_result"
    }
   ],
   "source": [
    "max(valores)"
   ]
  },
  {
   "cell_type": "code",
   "execution_count": 17,
   "id": "9f1b0c98",
   "metadata": {},
   "outputs": [
    {
     "data": {
      "text/plain": [
       "6"
      ]
     },
     "execution_count": 17,
     "metadata": {},
     "output_type": "execute_result"
    }
   ],
   "source": [
    "len(valores)"
   ]
  },
  {
   "cell_type": "code",
   "execution_count": 19,
   "id": "f220de60",
   "metadata": {},
   "outputs": [
    {
     "data": {
      "text/plain": [
       "[0, 1, 2, 3, 5, 7, 9]"
      ]
     },
     "execution_count": 19,
     "metadata": {},
     "output_type": "execute_result"
    }
   ],
   "source": [
    "valores.append(9)\n",
    "valores"
   ]
  },
  {
   "cell_type": "code",
   "execution_count": 20,
   "id": "1d63ecc1",
   "metadata": {},
   "outputs": [
    {
     "data": {
      "text/plain": [
       "9"
      ]
     },
     "execution_count": 20,
     "metadata": {},
     "output_type": "execute_result"
    }
   ],
   "source": [
    "valores.pop()"
   ]
  },
  {
   "cell_type": "code",
   "execution_count": null,
   "id": "756c60d9",
   "metadata": {},
   "outputs": [],
   "source": []
  }
 ],
 "metadata": {
  "kernelspec": {
   "display_name": "Python 3 (ipykernel)",
   "language": "python",
   "name": "python3"
  },
  "language_info": {
   "codemirror_mode": {
    "name": "ipython",
    "version": 3
   },
   "file_extension": ".py",
   "mimetype": "text/x-python",
   "name": "python",
   "nbconvert_exporter": "python",
   "pygments_lexer": "ipython3",
   "version": "3.11.4"
  }
 },
 "nbformat": 4,
 "nbformat_minor": 5
}
