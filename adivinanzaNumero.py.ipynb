{
 "cells": [
  {
   "cell_type": "code",
   "execution_count": null,
   "id": "5bd71985",
   "metadata": {},
   "outputs": [
    {
     "name": "stdout",
     "output_type": "stream",
     "text": [
      "========================================\n",
      "Bienvenido al Juego de la horca\n",
      "========================================\n",
      "['_', '_', '_', '_', '_', '_', '_', '_', '_']\n",
      "Ingrese una letra... m\n",
      "['m', '_', '_', '_', '_', '_', '_', '_', '_']\n",
      "Ingrese una letra... e\n",
      "['m', '_', '_', '_', '_', '_', '_', '_', '_']\n",
      "Ingrese una letra... r\n",
      "['m', '_', '_', '_', '_', 'r', '_', '_', '_']\n",
      "Ingrese una letra... a\n",
      "['m', 'a', '_', '_', 'a', 'r', '_', '_', 'a']\n"
     ]
    }
   ],
   "source": [
    "def jugar():\n",
    "    print('========================================')\n",
    "    print('Bienvenido al Juego de la horca')\n",
    "    print('========================================')\n",
    "\n",
    "    palabra_secreta = 'mandarina'\n",
    "    letras_acertadas =['_','_','_','_','_','_','_','_','_']\n",
    "    \n",
    "    ahorcado = False\n",
    "    acerto = False\n",
    "    errores = 0 #contador de errores\n",
    "    \n",
    "    print(letras_acertadas)\n",
    "    while(not ahorcado and not acerto):\n",
    "        entrada= input('Ingrese una letra... ')\n",
    "        entrada = entrada.strip()\n",
    "        entrada = entrada.lower()\n",
    "        \n",
    "        if entrada in palabra_secreta:\n",
    "            indice = 0\n",
    "            for letra in palabra_secreta:\n",
    "                if(entrada==letra):\n",
    "                    letras_acertadas[indice] = letra\n",
    "                    #print('Se encontró la letra {} en la posición {}'.format(letra, indice))\n",
    "\n",
    "                indice = indice + 1\n",
    "        else:\n",
    "            errores += 1\n",
    "            \n",
    "        ahorcado = errores == 9\n",
    "        acerto = \"_\" not in letras_acertadas\n",
    "        print(letras_acertadas)\n",
    "       \n",
    "       \n",
    "    if(acerto):\n",
    "        print('Felicidades, ganaste')\n",
    "    else:\n",
    "        print('Lo siento, perdiste')\n",
    "       \n",
    "    print('FIN DEL JUEGO')\n",
    "    \n",
    "if(__name__ == \"__main__\"):\n",
    "    jugar()"
   ]
  },
  {
   "cell_type": "code",
   "execution_count": null,
   "id": "0e370e42",
   "metadata": {},
   "outputs": [],
   "source": [
    "palabra= \"mandarina\"\n",
    "palabra.capitalize() # convierte la primera letra en mayuscula"
   ]
  },
  {
   "cell_type": "code",
   "execution_count": null,
   "id": "2eaeeb89",
   "metadata": {},
   "outputs": [],
   "source": [
    "palabra.endswith(\"na\")#busca una sud cadena al final"
   ]
  },
  {
   "cell_type": "code",
   "execution_count": null,
   "id": "534f0601",
   "metadata": {},
   "outputs": [],
   "source": [
    "palabra2=\"PROGRAMACION TRES\"\n",
    "palabra2.lower()# convierte toda la cadena a minisculas"
   ]
  },
  {
   "cell_type": "code",
   "execution_count": null,
   "id": "6b6cb911",
   "metadata": {},
   "outputs": [],
   "source": [
    "palabra.upper() #convierte toda la cadena a mayusculas"
   ]
  },
  {
   "cell_type": "code",
   "execution_count": null,
   "id": "ee672f37",
   "metadata": {},
   "outputs": [],
   "source": [
    "palabra= \"     abc     \"\n",
    "palabra.strip() # elimina los espacios en blancos q alla hacia la izquierda y derecha\n"
   ]
  },
  {
   "cell_type": "code",
   "execution_count": null,
   "id": "5efee20a",
   "metadata": {},
   "outputs": [],
   "source": [
    "palabra= \"mandarina\"\n",
    "type (palabra) # referencia a palabra el type"
   ]
  },
  {
   "cell_type": "code",
   "execution_count": null,
   "id": "d2efcd31",
   "metadata": {},
   "outputs": [],
   "source": [
    "palabra.find(\"m\")"
   ]
  },
  {
   "cell_type": "code",
   "execution_count": null,
   "id": "9a62d3ff",
   "metadata": {},
   "outputs": [],
   "source": [
    "palabra.find(\"z\")# no encontro la letra o en la sud cadena siemore nos devuelve el valor de-1"
   ]
  },
  {
   "cell_type": "code",
   "execution_count": 9,
   "id": "eba88b5c",
   "metadata": {},
   "outputs": [
    {
     "data": {
      "text/plain": [
       "list"
      ]
     },
     "execution_count": 9,
     "metadata": {},
     "output_type": "execute_result"
    }
   ],
   "source": [
    "valores=[]\n",
    "type (valores)"
   ]
  },
  {
   "cell_type": "code",
   "execution_count": 10,
   "id": "55d04e54",
   "metadata": {},
   "outputs": [
    {
     "data": {
      "text/plain": [
       "False"
      ]
     },
     "execution_count": 10,
     "metadata": {},
     "output_type": "execute_result"
    }
   ],
   "source": [
    "valores=[0,1,2,3,'x']\n",
    "7 in valores"
   ]
  },
  {
   "cell_type": "code",
   "execution_count": 11,
   "id": "475a000b",
   "metadata": {},
   "outputs": [
    {
     "data": {
      "text/plain": [
       "True"
      ]
     },
     "execution_count": 11,
     "metadata": {},
     "output_type": "execute_result"
    }
   ],
   "source": [
    "'a'in 'mandarina'"
   ]
  },
  {
   "cell_type": "code",
   "execution_count": 12,
   "id": "c5faa471",
   "metadata": {},
   "outputs": [
    {
     "ename": "TypeError",
     "evalue": "'<' not supported between instances of 'str' and 'int'",
     "output_type": "error",
     "traceback": [
      "\u001b[1;31m---------------------------------------------------------------------------\u001b[0m",
      "\u001b[1;31mTypeError\u001b[0m                                 Traceback (most recent call last)",
      "Cell \u001b[1;32mIn[12], line 1\u001b[0m\n\u001b[1;32m----> 1\u001b[0m \u001b[38;5;28mmin\u001b[39m(valores)\n",
      "\u001b[1;31mTypeError\u001b[0m: '<' not supported between instances of 'str' and 'int'"
     ]
    }
   ],
   "source": [
    "min(valores)"
   ]
  },
  {
   "cell_type": "code",
   "execution_count": 14,
   "id": "87af8a58",
   "metadata": {},
   "outputs": [],
   "source": [
    "valores=[0,1,2,3,5,7]"
   ]
  },
  {
   "cell_type": "code",
   "execution_count": 15,
   "id": "1d0cca72",
   "metadata": {},
   "outputs": [
    {
     "data": {
      "text/plain": [
       "0"
      ]
     },
     "execution_count": 15,
     "metadata": {},
     "output_type": "execute_result"
    }
   ],
   "source": [
    "min(valores)"
   ]
  },
  {
   "cell_type": "code",
   "execution_count": 16,
   "id": "a9f660bb",
   "metadata": {},
   "outputs": [
    {
     "data": {
      "text/plain": [
       "7"
      ]
     },
     "execution_count": 16,
     "metadata": {},
     "output_type": "execute_result"
    }
   ],
   "source": [
    "max(valores)"
   ]
  },
  {
   "cell_type": "code",
   "execution_count": 17,
   "id": "9f1b0c98",
   "metadata": {},
   "outputs": [
    {
     "data": {
      "text/plain": [
       "6"
      ]
     },
     "execution_count": 17,
     "metadata": {},
     "output_type": "execute_result"
    }
   ],
   "source": [
    "len(valores)"
   ]
  },
  {
   "cell_type": "code",
   "execution_count": 19,
   "id": "f220de60",
   "metadata": {},
   "outputs": [
    {
     "data": {
      "text/plain": [
       "[0, 1, 2, 3, 5, 7, 9]"
      ]
     },
     "execution_count": 19,
     "metadata": {},
     "output_type": "execute_result"
    }
   ],
   "source": [
    "valores.append(9)\n",
    "valores"
   ]
  },
  {
   "cell_type": "code",
   "execution_count": 20,
   "id": "1d63ecc1",
   "metadata": {},
   "outputs": [
    {
     "data": {
      "text/plain": [
       "9"
      ]
     },
     "execution_count": 20,
     "metadata": {},
     "output_type": "execute_result"
    }
   ],
   "source": [
    "valores.pop()"
   ]
  },
  {
   "cell_type": "code",
   "execution_count": 1,
   "id": "71962434",
   "metadata": {},
   "outputs": [
    {
     "data": {
      "text/plain": [
       "2"
      ]
     },
     "execution_count": 1,
     "metadata": {},
     "output_type": "execute_result"
    }
   ],
   "source": [
    "serie = range (0,10)\n",
    "serie[2]"
   ]
  },
  {
   "cell_type": "code",
   "execution_count": 2,
   "id": "337863fe",
   "metadata": {},
   "outputs": [
    {
     "data": {
      "text/plain": [
       "7"
      ]
     },
     "execution_count": 2,
     "metadata": {},
     "output_type": "execute_result"
    }
   ],
   "source": [
    "serie[7]"
   ]
  },
  {
   "cell_type": "code",
   "execution_count": 3,
   "id": "5ea70a67",
   "metadata": {},
   "outputs": [
    {
     "data": {
      "text/plain": [
       "9"
      ]
     },
     "execution_count": 3,
     "metadata": {},
     "output_type": "execute_result"
    }
   ],
   "source": [
    "serie[9]"
   ]
  },
  {
   "cell_type": "code",
   "execution_count": 4,
   "id": "1d738967",
   "metadata": {},
   "outputs": [],
   "source": [
    "dias_laborables=['lunes','martes','miercoles','jueves','viernes']"
   ]
  },
  {
   "cell_type": "code",
   "execution_count": 5,
   "id": "feaf294d",
   "metadata": {},
   "outputs": [],
   "source": [
    "dias_laborables.append('sabado')"
   ]
  },
  {
   "cell_type": "code",
   "execution_count": 6,
   "id": "8e00996b",
   "metadata": {},
   "outputs": [
    {
     "data": {
      "text/plain": [
       "['lunes', 'martes', 'miercoles', 'jueves', 'viernes', 'sabado']"
      ]
     },
     "execution_count": 6,
     "metadata": {},
     "output_type": "execute_result"
    }
   ],
   "source": [
    "dias_laborables"
   ]
  },
  {
   "cell_type": "code",
   "execution_count": 7,
   "id": "940bc54b",
   "metadata": {},
   "outputs": [
    {
     "data": {
      "text/plain": [
       "['lunes', 'martes', 'miercoles', 'jueves', 'viernes']"
      ]
     },
     "execution_count": 7,
     "metadata": {},
     "output_type": "execute_result"
    }
   ],
   "source": [
    "dias_laborables.pop()\n",
    "dias_laborables"
   ]
  },
  {
   "cell_type": "code",
   "execution_count": 8,
   "id": "042f37cf",
   "metadata": {},
   "outputs": [
    {
     "data": {
      "text/plain": [
       "tuple"
      ]
     },
     "execution_count": 8,
     "metadata": {},
     "output_type": "execute_result"
    }
   ],
   "source": [
    "dias=(\"lun\",\"Mar\",\"Mie\",\"Jue\",\"Vie\",\"Sab\",\"Dom\")\n",
    "type(dias)"
   ]
  },
  {
   "cell_type": "code",
   "execution_count": 9,
   "id": "711fcc93",
   "metadata": {},
   "outputs": [
    {
     "data": {
      "text/plain": [
       "'Jue'"
      ]
     },
     "execution_count": 9,
     "metadata": {},
     "output_type": "execute_result"
    }
   ],
   "source": [
    "dias[3]"
   ]
  },
  {
   "cell_type": "code",
   "execution_count": 11,
   "id": "86628381",
   "metadata": {},
   "outputs": [
    {
     "data": {
      "text/plain": [
       "'Dom'"
      ]
     },
     "execution_count": 11,
     "metadata": {},
     "output_type": "execute_result"
    }
   ],
   "source": [
    "dias[6]"
   ]
  },
  {
   "cell_type": "code",
   "execution_count": 12,
   "id": "efca5450",
   "metadata": {},
   "outputs": [
    {
     "data": {
      "text/plain": [
       "[(3, 5), (4, 6), (5, 7)]"
      ]
     },
     "execution_count": 12,
     "metadata": {},
     "output_type": "execute_result"
    }
   ],
   "source": [
    "#tuplas\n",
    "punto=(3,5)\n",
    "p1=(3,5)\n",
    "p2=(4,6)\n",
    "p3=(5,7)\n",
    "linea=[p1,p2,p3]\n",
    "linea"
   ]
  },
  {
   "cell_type": "code",
   "execution_count": 13,
   "id": "11fa5862",
   "metadata": {},
   "outputs": [
    {
     "data": {
      "text/plain": [
       "[('yari moto', 40), ('edivaldo', 37), ('isidoro', 39)]"
      ]
     },
     "execution_count": 13,
     "metadata": {},
     "output_type": "execute_result"
    }
   ],
   "source": [
    "p1=('yari moto',40)\n",
    "p2=('edivaldo',37)\n",
    "p3=('isidoro',39)\n",
    "profesores=[p1,p2,p3]\n",
    "profesores"
   ]
  },
  {
   "cell_type": "code",
   "execution_count": 14,
   "id": "31701bcb",
   "metadata": {},
   "outputs": [
    {
     "data": {
      "text/plain": [
       "('edivaldo', 37)"
      ]
     },
     "execution_count": 14,
     "metadata": {},
     "output_type": "execute_result"
    }
   ],
   "source": [
    "profesores[1]"
   ]
  },
  {
   "cell_type": "code",
   "execution_count": 15,
   "id": "4c50a2f9",
   "metadata": {},
   "outputs": [
    {
     "data": {
      "text/plain": [
       "37"
      ]
     },
     "execution_count": 15,
     "metadata": {},
     "output_type": "execute_result"
    }
   ],
   "source": [
    "profesores[1][1]"
   ]
  },
  {
   "cell_type": "code",
   "execution_count": 16,
   "id": "ee12327a",
   "metadata": {},
   "outputs": [
    {
     "data": {
      "text/plain": [
       "'yari moto'"
      ]
     },
     "execution_count": 16,
     "metadata": {},
     "output_type": "execute_result"
    }
   ],
   "source": [
    "profesores[0][0]"
   ]
  },
  {
   "cell_type": "code",
   "execution_count": 17,
   "id": "2e532e2f",
   "metadata": {},
   "outputs": [],
   "source": [
    "palabras=[]\n",
    "palabras.append('mandarina')\n",
    "palabras.append('manzana')\n",
    "palabras.append('durazno')\n",
    "palabras.append('sandia')"
   ]
  },
  {
   "cell_type": "code",
   "execution_count": 18,
   "id": "58a233b8",
   "metadata": {},
   "outputs": [
    {
     "data": {
      "text/plain": [
       "('mandarina', 'manzana', 'durazno', 'sandia')"
      ]
     },
     "execution_count": 18,
     "metadata": {},
     "output_type": "execute_result"
    }
   ],
   "source": [
    "nueva=tuple(palabras)\n",
    "nueva"
   ]
  },
  {
   "cell_type": "code",
   "execution_count": 19,
   "id": "30ddf750",
   "metadata": {},
   "outputs": [
    {
     "data": {
      "text/plain": [
       "['mandarina', 'manzana', 'durazno', 'sandia']"
      ]
     },
     "execution_count": 19,
     "metadata": {},
     "output_type": "execute_result"
    }
   ],
   "source": [
    "otra= list(nueva)\n",
    "otra"
   ]
  },
  {
   "cell_type": "code",
   "execution_count": 22,
   "id": "7935f821",
   "metadata": {},
   "outputs": [],
   "source": [
    "coleccion=(2,1,4,6)"
   ]
  },
  {
   "cell_type": "code",
   "execution_count": 23,
   "id": "4afab87e",
   "metadata": {},
   "outputs": [
    {
     "ename": "AttributeError",
     "evalue": "'tuple' object has no attribute 'add'",
     "output_type": "error",
     "traceback": [
      "\u001b[1;31m---------------------------------------------------------------------------\u001b[0m",
      "\u001b[1;31mAttributeError\u001b[0m                            Traceback (most recent call last)",
      "Cell \u001b[1;32mIn[23], line 1\u001b[0m\n\u001b[1;32m----> 1\u001b[0m coleccion\u001b[38;5;241m.\u001b[39madd(\u001b[38;5;241m7\u001b[39m)\n\u001b[0;32m      2\u001b[0m coleccion\n",
      "\u001b[1;31mAttributeError\u001b[0m: 'tuple' object has no attribute 'add'"
     ]
    }
   ],
   "source": [
    "coleccion.add(7)\n",
    "coleccion"
   ]
  },
  {
   "cell_type": "code",
   "execution_count": null,
   "id": "d946f07e",
   "metadata": {},
   "outputs": [],
   "source": []
  }
 ],
 "metadata": {
  "kernelspec": {
   "display_name": "Python 3 (ipykernel)",
   "language": "python",
   "name": "python3"
  },
  "language_info": {
   "codemirror_mode": {
    "name": "ipython",
    "version": 3
   },
   "file_extension": ".py",
   "mimetype": "text/x-python",
   "name": "python",
   "nbconvert_exporter": "python",
   "pygments_lexer": "ipython3",
   "version": "3.11.4"
  }
 },
 "nbformat": 4,
 "nbformat_minor": 5
}
